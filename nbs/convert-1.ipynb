{
 "cells": [
  {
   "cell_type": "markdown",
   "metadata": {},
   "source": [
    "### Conversion:\n",
    "from senate_meta_v1.csv -> rows-2.json\n",
    "\n",
    "This will match the FusionTables query response expected by the app"
   ]
  },
  {
   "cell_type": "code",
   "execution_count": 6,
   "metadata": {},
   "outputs": [],
   "source": [
    "import json\n",
    "import pandas as pd\n",
    "import xml\n",
    "import xml.etree.ElementTree as ET"
   ]
  },
  {
   "cell_type": "code",
   "execution_count": 15,
   "metadata": {},
   "outputs": [],
   "source": [
    "df = pd.read_csv('../data/senate_meta_v1.csv')"
   ]
  },
  {
   "cell_type": "markdown",
   "metadata": {},
   "source": [
    "##### app relies on this order"
   ]
  },
  {
   "cell_type": "code",
   "execution_count": 18,
   "metadata": {},
   "outputs": [],
   "source": [
    "df = df.sort_values(by='senateId')"
   ]
  },
  {
   "cell_type": "markdown",
   "metadata": {},
   "source": [
    "##### order to match app's query"
   ]
  },
  {
   "cell_type": "code",
   "execution_count": 19,
   "metadata": {},
   "outputs": [],
   "source": [
    "query_cols = \"MaxLong, poly, name, senateId, incomeShared, numOrgs, LatCenter, LongCenter, LatLength, LongLength\"\n",
    "query_cols = query_cols.split(', ')\n",
    "\n",
    "df2 = df[query_cols]"
   ]
  },
  {
   "cell_type": "markdown",
   "metadata": {},
   "source": [
    "##### convert shape to rows based array"
   ]
  },
  {
   "cell_type": "code",
   "execution_count": 20,
   "metadata": {},
   "outputs": [],
   "source": [
    "d = {}\n",
    "for k in df2.keys():\n",
    "    d[k] = df2[k].to_list()\n",
    "    \n",
    "d_len = len(d[list(d.keys())[0]])\n",
    "\n",
    "rows = []\n",
    "for i in range(d_len):\n",
    "    _row = [d[k][i] for k in list(d.keys())]\n",
    "    rows.append(_row)"
   ]
  },
  {
   "cell_type": "markdown",
   "metadata": {},
   "source": [
    "##### convert district polygon xml to json style"
   ]
  },
  {
   "cell_type": "code",
   "execution_count": 21,
   "metadata": {},
   "outputs": [],
   "source": [
    "def parse_scoords(e):\n",
    "    try:\n",
    "        return [\n",
    "            float(e.split(',')[0]), \n",
    "            float(e.split(',')[1])\n",
    "        ]\n",
    "    except:\n",
    "        return None\n",
    "    \n",
    "def parseXml(s):\n",
    "    \n",
    "    s = s.replace('\\r\\n', '\\n')\n",
    "    \n",
    "    root = ET.fromstring(s)\n",
    "    \n",
    "    s_coords = root[0][0][0]\n",
    "\n",
    "    l_coords = s_coords.text.split('\\n')\n",
    "\n",
    "    ll_coords = [parse_scoords(e) for e in l_coords]\n",
    "    ll_coords = [e for e in ll_coords if e is not None]\n",
    "    \n",
    "    d_geo = {\n",
    "        'geometry': {\n",
    "            'type': 'Polygon',\n",
    "            'coordinates': [ll_coords]\n",
    "        }\n",
    "    }\n",
    "    return d_geo"
   ]
  },
  {
   "cell_type": "code",
   "execution_count": 22,
   "metadata": {},
   "outputs": [],
   "source": [
    "for i in range(d_len):\n",
    "    rows[i][1] = parseXml(rows[i][1])"
   ]
  },
  {
   "cell_type": "code",
   "execution_count": 23,
   "metadata": {},
   "outputs": [],
   "source": [
    "    \n",
    "out_rows = {'rows': rows}"
   ]
  },
  {
   "cell_type": "code",
   "execution_count": 24,
   "metadata": {},
   "outputs": [],
   "source": [
    "json.dump(out_rows, open('output/rows-4.json', 'w'))"
   ]
  },
  {
   "cell_type": "markdown",
   "metadata": {},
   "source": [
    "##### Now copy to file to `app/data/` directory"
   ]
  },
  {
   "cell_type": "code",
   "execution_count": null,
   "metadata": {},
   "outputs": [],
   "source": []
  }
 ],
 "metadata": {
  "kernelspec": {
   "display_name": "Python [conda env:root] *",
   "language": "python",
   "name": "conda-root-py"
  },
  "language_info": {
   "codemirror_mode": {
    "name": "ipython",
    "version": 3
   },
   "file_extension": ".py",
   "mimetype": "text/x-python",
   "name": "python",
   "nbconvert_exporter": "python",
   "pygments_lexer": "ipython3",
   "version": "3.7.4"
  }
 },
 "nbformat": 4,
 "nbformat_minor": 2
}
