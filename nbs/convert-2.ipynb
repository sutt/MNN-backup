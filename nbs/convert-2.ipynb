{
 "cells": [
  {
   "cell_type": "markdown",
   "metadata": {},
   "source": [
    "### Conversion:\n",
    "from fusion v2 EO.csv -> df_final_1.csv\n",
    "\n",
    "This provides the right fields and id-codes to match the query.\n",
    "\n",
    "These still need to be cut up to by district jsons"
   ]
  },
  {
   "cell_type": "code",
   "execution_count": 1,
   "metadata": {},
   "outputs": [],
   "source": [
    "import json\n",
    "import pandas as pd\n",
    "import xml\n",
    "import xml.etree.ElementTree as ET"
   ]
  },
  {
   "cell_type": "code",
   "execution_count": 2,
   "metadata": {},
   "outputs": [
    {
     "name": "stderr",
     "output_type": "stream",
     "text": [
      "C:\\Users\\wsutt\\Anaconda3\\lib\\site-packages\\IPython\\core\\interactiveshell.py:3058: DtypeWarning: Columns (30) have mixed types. Specify dtype option on import or set low_memory=False.\n",
      "  interactivity=interactivity, compiler=compiler, result=result)\n"
     ]
    }
   ],
   "source": [
    "df_org = pd.read_csv('../data/orgtbl3.csv')\n",
    "df_fusion = pd.read_csv('../data/fusion v2 EO.csv')\n",
    "df_districts = pd.read_csv('../data/senate_meta_v1.csv')"
   ]
  },
  {
   "cell_type": "markdown",
   "metadata": {},
   "source": [
    "#### Select only the columns we need"
   ]
  },
  {
   "cell_type": "code",
   "execution_count": 3,
   "metadata": {},
   "outputs": [
    {
     "data": {
      "text/plain": [
       "'Name, Latitude, Longitude, senateId, incomeAmount, mnnSectorCode, assetAmount'"
      ]
     },
     "execution_count": 3,
     "metadata": {},
     "output_type": "execute_result"
    }
   ],
   "source": [
    "query_cols = 'Name, Latitude, Longitude, senateId, incomeAmount, mnnSectorCode, assetAmount'\n",
    "query_cols"
   ]
  },
  {
   "cell_type": "code",
   "execution_count": 4,
   "metadata": {},
   "outputs": [],
   "source": [
    "df_final = df_fusion[['Name', 'Latitude', 'Longitude', \n",
    "                      'Income Amount', 'Asset Amount',  \n",
    "                      'MNN Sector', 'Senate District']]"
   ]
  },
  {
   "cell_type": "code",
   "execution_count": 5,
   "metadata": {},
   "outputs": [
    {
     "data": {
      "text/plain": [
       "Name                object\n",
       "Latitude           float64\n",
       "Longitude          float64\n",
       "Income Amount      float64\n",
       "Asset Amount       float64\n",
       "MNN Sector          object\n",
       "Senate District     object\n",
       "dtype: object"
      ]
     },
     "execution_count": 5,
     "metadata": {},
     "output_type": "execute_result"
    }
   ],
   "source": [
    "df_final.dtypes"
   ]
  },
  {
   "cell_type": "markdown",
   "metadata": {},
   "source": [
    "#### Handle NA's"
   ]
  },
  {
   "cell_type": "code",
   "execution_count": 6,
   "metadata": {
    "collapsed": true
   },
   "outputs": [
    {
     "name": "stderr",
     "output_type": "stream",
     "text": [
      "C:\\Users\\wsutt\\Anaconda3\\lib\\site-packages\\ipykernel_launcher.py:2: SettingWithCopyWarning: \n",
      "A value is trying to be set on a copy of a slice from a DataFrame\n",
      "\n",
      "See the caveats in the documentation: http://pandas.pydata.org/pandas-docs/stable/user_guide/indexing.html#returning-a-view-versus-a-copy\n",
      "  \n",
      "C:\\Users\\wsutt\\Anaconda3\\lib\\site-packages\\pandas\\core\\generic.py:9114: SettingWithCopyWarning: \n",
      "A value is trying to be set on a copy of a slice from a DataFrame\n",
      "\n",
      "See the caveats in the documentation: http://pandas.pydata.org/pandas-docs/stable/user_guide/indexing.html#returning-a-view-versus-a-copy\n",
      "  self._update_inplace(new_data)\n",
      "C:\\Users\\wsutt\\Anaconda3\\lib\\site-packages\\IPython\\core\\interactiveshell.py:3326: SettingWithCopyWarning: \n",
      "A value is trying to be set on a copy of a slice from a DataFrame\n",
      "\n",
      "See the caveats in the documentation: http://pandas.pydata.org/pandas-docs/stable/user_guide/indexing.html#returning-a-view-versus-a-copy\n",
      "  exec(code_obj, self.user_global_ns, self.user_ns)\n",
      "C:\\Users\\wsutt\\Anaconda3\\lib\\site-packages\\ipykernel_launcher.py:3: SettingWithCopyWarning: \n",
      "A value is trying to be set on a copy of a slice from a DataFrame.\n",
      "Try using .loc[row_indexer,col_indexer] = value instead\n",
      "\n",
      "See the caveats in the documentation: http://pandas.pydata.org/pandas-docs/stable/user_guide/indexing.html#returning-a-view-versus-a-copy\n",
      "  This is separate from the ipykernel package so we can avoid doing imports until\n"
     ]
    },
    {
     "data": {
      "text/plain": [
       "0"
      ]
     },
     "execution_count": 6,
     "metadata": {},
     "output_type": "execute_result"
    }
   ],
   "source": [
    "tmp = df_final['MNN Sector']\n",
    "tmp[tmp.isna()] = \"NA\"\n",
    "df_final['mnnSector'] = tmp\n",
    "\n",
    "sum(df_final['mnnSector'].isna())"
   ]
  },
  {
   "cell_type": "code",
   "execution_count": 7,
   "metadata": {},
   "outputs": [],
   "source": [
    "# sum(df_final['Senate District'].isna())\n",
    "# df_final[df_final['Senate District'].isna()]"
   ]
  },
  {
   "cell_type": "markdown",
   "metadata": {},
   "source": [
    "#### Build Join Tables\n",
    "we need to join to get a sector id-code, and senate-district id-code\n",
    "\n",
    "note: sector id-code proceeds DESC in total prevalence, with NA added in"
   ]
  },
  {
   "cell_type": "code",
   "execution_count": 7,
   "metadata": {},
   "outputs": [
    {
     "data": {
      "text/html": [
       "<div>\n",
       "<style scoped>\n",
       "    .dataframe tbody tr th:only-of-type {\n",
       "        vertical-align: middle;\n",
       "    }\n",
       "\n",
       "    .dataframe tbody tr th {\n",
       "        vertical-align: top;\n",
       "    }\n",
       "\n",
       "    .dataframe thead th {\n",
       "        text-align: right;\n",
       "    }\n",
       "</style>\n",
       "<table border=\"1\" class=\"dataframe\">\n",
       "  <thead>\n",
       "    <tr style=\"text-align: right;\">\n",
       "      <th></th>\n",
       "      <th>senateId</th>\n",
       "      <th>name</th>\n",
       "    </tr>\n",
       "  </thead>\n",
       "  <tbody>\n",
       "    <tr>\n",
       "      <td>32</td>\n",
       "      <td>1</td>\n",
       "      <td>First Suffolk</td>\n",
       "    </tr>\n",
       "    <tr>\n",
       "      <td>29</td>\n",
       "      <td>2</td>\n",
       "      <td>Second Suffolk</td>\n",
       "    </tr>\n",
       "    <tr>\n",
       "      <td>21</td>\n",
       "      <td>3</td>\n",
       "      <td>Hampden</td>\n",
       "    </tr>\n",
       "  </tbody>\n",
       "</table>\n",
       "</div>"
      ],
      "text/plain": [
       "    senateId            name\n",
       "32         1   First Suffolk\n",
       "29         2  Second Suffolk\n",
       "21         3         Hampden"
      ]
     },
     "execution_count": 7,
     "metadata": {},
     "output_type": "execute_result"
    }
   ],
   "source": [
    "df_districts = df_districts.sort_values(by='senateId')\n",
    "df_districts_v2 = df_districts[['senateId', 'name']]\n",
    "df_districts_v2.head(3)"
   ]
  },
  {
   "cell_type": "code",
   "execution_count": 8,
   "metadata": {},
   "outputs": [
    {
     "data": {
      "text/html": [
       "<div>\n",
       "<style scoped>\n",
       "    .dataframe tbody tr th:only-of-type {\n",
       "        vertical-align: middle;\n",
       "    }\n",
       "\n",
       "    .dataframe tbody tr th {\n",
       "        vertical-align: top;\n",
       "    }\n",
       "\n",
       "    .dataframe thead th {\n",
       "        text-align: right;\n",
       "    }\n",
       "</style>\n",
       "<table border=\"1\" class=\"dataframe\">\n",
       "  <thead>\n",
       "    <tr style=\"text-align: right;\">\n",
       "      <th></th>\n",
       "      <th>mnnSector</th>\n",
       "      <th>sectorName</th>\n",
       "      <th>mnnSectorCode</th>\n",
       "    </tr>\n",
       "  </thead>\n",
       "  <tbody>\n",
       "    <tr>\n",
       "      <td>0</td>\n",
       "      <td>7160</td>\n",
       "      <td>Youth &amp; Education</td>\n",
       "      <td>1</td>\n",
       "    </tr>\n",
       "    <tr>\n",
       "      <td>1</td>\n",
       "      <td>6114</td>\n",
       "      <td>Human Services</td>\n",
       "      <td>2</td>\n",
       "    </tr>\n",
       "    <tr>\n",
       "      <td>2</td>\n",
       "      <td>3315</td>\n",
       "      <td>Other</td>\n",
       "      <td>3</td>\n",
       "    </tr>\n",
       "    <tr>\n",
       "      <td>3</td>\n",
       "      <td>3167</td>\n",
       "      <td>Arts &amp; Culture</td>\n",
       "      <td>4</td>\n",
       "    </tr>\n",
       "    <tr>\n",
       "      <td>4</td>\n",
       "      <td>3089</td>\n",
       "      <td>Religious Organizations</td>\n",
       "      <td>5</td>\n",
       "    </tr>\n",
       "    <tr>\n",
       "      <td>5</td>\n",
       "      <td>2504</td>\n",
       "      <td>Philanthropy</td>\n",
       "      <td>6</td>\n",
       "    </tr>\n",
       "    <tr>\n",
       "      <td>6</td>\n",
       "      <td>2296</td>\n",
       "      <td>Housing</td>\n",
       "      <td>7</td>\n",
       "    </tr>\n",
       "    <tr>\n",
       "      <td>7</td>\n",
       "      <td>2005</td>\n",
       "      <td>Health &amp; Healthcare</td>\n",
       "      <td>8</td>\n",
       "    </tr>\n",
       "    <tr>\n",
       "      <td>8</td>\n",
       "      <td>1583</td>\n",
       "      <td>NA</td>\n",
       "      <td>9</td>\n",
       "    </tr>\n",
       "    <tr>\n",
       "      <td>9</td>\n",
       "      <td>1385</td>\n",
       "      <td>Human Rights</td>\n",
       "      <td>10</td>\n",
       "    </tr>\n",
       "    <tr>\n",
       "      <td>10</td>\n",
       "      <td>1348</td>\n",
       "      <td>Environment &amp; Nature</td>\n",
       "      <td>11</td>\n",
       "    </tr>\n",
       "  </tbody>\n",
       "</table>\n",
       "</div>"
      ],
      "text/plain": [
       "    mnnSector               sectorName  mnnSectorCode\n",
       "0        7160        Youth & Education              1\n",
       "1        6114           Human Services              2\n",
       "2        3315                    Other              3\n",
       "3        3167           Arts & Culture              4\n",
       "4        3089  Religious Organizations              5\n",
       "5        2504             Philanthropy              6\n",
       "6        2296                  Housing              7\n",
       "7        2005      Health & Healthcare              8\n",
       "8        1583                       NA              9\n",
       "9        1385             Human Rights             10\n",
       "10       1348     Environment & Nature             11"
      ]
     },
     "execution_count": 8,
     "metadata": {},
     "output_type": "execute_result"
    }
   ],
   "source": [
    "lookup_sector = pd.DataFrame(df_final['mnnSector'].value_counts())\n",
    "lookup_sector['sectorName'] = lookup_sector.index\n",
    "lookup_sector.reset_index(inplace=True, drop=True)\n",
    "lookup_sector['mnnSectorCode'] = lookup_sector.index + 1\n",
    "lookup_sector"
   ]
  },
  {
   "cell_type": "markdown",
   "metadata": {},
   "source": [
    "#### Perform Merges"
   ]
  },
  {
   "cell_type": "code",
   "execution_count": 9,
   "metadata": {},
   "outputs": [],
   "source": [
    "df_final = pd.merge(df_final, \n",
    "         lookup_sector, \n",
    "         how='left', \n",
    "         left_on='MNN Sector',\n",
    "         right_on='sectorName'\n",
    "        )"
   ]
  },
  {
   "cell_type": "code",
   "execution_count": 10,
   "metadata": {},
   "outputs": [],
   "source": [
    "df_final = pd.merge(df_final, \n",
    "         df_districts_v2, \n",
    "         how='left', \n",
    "         left_on='Senate District',\n",
    "         right_on='name'\n",
    "        )"
   ]
  },
  {
   "cell_type": "markdown",
   "metadata": {},
   "source": [
    "#### SenateId Merge misses 4-5 districts, analyze + fix here"
   ]
  },
  {
   "cell_type": "code",
   "execution_count": 11,
   "metadata": {},
   "outputs": [
    {
     "data": {
      "text/plain": [
       "(4825, 29)"
      ]
     },
     "execution_count": 11,
     "metadata": {},
     "output_type": "execute_result"
    }
   ],
   "source": [
    "(sum(df_final['senateId'].isna()), \n",
    " sum(df_final['Senate District'].isna()))"
   ]
  },
  {
   "cell_type": "code",
   "execution_count": 12,
   "metadata": {},
   "outputs": [],
   "source": [
    "df_final['senateId2'] = df_final['senateId']\n",
    "df_final['senateId2'] = df_final['senateId2'].fillna(-1)"
   ]
  },
  {
   "cell_type": "code",
   "execution_count": 13,
   "metadata": {
    "collapsed": true
   },
   "outputs": [
    {
     "data": {
      "text/plain": [
       "Senate District             senateId2\n",
       "Berkshire                   -1.0         1160\n",
       "Bristol & Norfolk            31.0         650\n",
       "Cape & Islands               40.0        1522\n",
       "Fifth Middlesex              23.0         732\n",
       "First Bristol & Plymouth     37.0         548\n",
       "First Essex                  19.0         702\n",
       "First Essex & Middlesex      20.0        1021\n",
       "First Hampden & Hampshire    7.0          575\n",
       "First Middlesex              13.0         548\n",
       "First Middlesex & Norfolk    29.0        1396\n",
       "First Plymouth & Bristol     36.0         588\n",
       "First Suffolk                1.0         1005\n",
       "First Suffolk & Middlesex    27.0        2197\n",
       "First Worcester              10.0         925\n",
       "Fourth Middlesex             24.0         778\n",
       "Hampden                      3.0          540\n",
       "Hampshire                   -1.0         1019\n",
       "Middlesex & Suffolk          26.0        1021\n",
       "Middlesex & Worcester        14.0        1122\n",
       "Norfolk                     -1.0         1960\n",
       "Norfolk & Plymouth           33.0         486\n",
       "Norfolk & Suffolk            30.0         783\n",
       "Plymouth & Barnstable        39.0         817\n",
       "Plymouth & Norfolk           34.0         838\n",
       "Second Bristol & Plymouth    38.0         525\n",
       "Second Essex                 21.0         769\n",
       "Second Essex & Middlesex     18.0         523\n",
       "Second Hampden & Hampshire   5.0          791\n",
       "Second Middlesex             25.0         763\n",
       "Second Middlesex & Norfolk   15.0         754\n",
       "Second Plymouth & Bristol    35.0         490\n",
       "Second Suffolk               2.0          859\n",
       "Second Suffolk & Middlesex   28.0        1152\n",
       "Second Worcester             11.0         539\n",
       "Third Essex                  22.0         678\n",
       "Third Middlesex              16.0        1303\n",
       "Worcester                   -1.0          657\n",
       "Worcester & Middlesex        9.0          646\n",
       "Worcester & Norfolk          12.0         555\n",
       "Name: Name, dtype: int64"
      ]
     },
     "execution_count": 13,
     "metadata": {},
     "output_type": "execute_result"
    }
   ],
   "source": [
    "df_final.groupby(['Senate District', 'senateId2']).agg('count')['Name']"
   ]
  },
  {
   "cell_type": "code",
   "execution_count": 15,
   "metadata": {},
   "outputs": [],
   "source": [
    "bads = ['Worcester', 'Norfolk' , 'Hampshire'  , 'Berkshire']"
   ]
  },
  {
   "cell_type": "code",
   "execution_count": 16,
   "metadata": {},
   "outputs": [
    {
     "data": {
      "text/plain": [
       "4796"
      ]
     },
     "execution_count": 16,
     "metadata": {},
     "output_type": "execute_result"
    }
   ],
   "source": [
    "sum(df_final['Senate District'].isin(bads))"
   ]
  },
  {
   "cell_type": "code",
   "execution_count": 17,
   "metadata": {},
   "outputs": [],
   "source": [
    "import numpy as np\n",
    "matches = [int(e) for e in df_final['senateId'].unique().tolist() \n",
    " if not(np.isnan(e))]"
   ]
  },
  {
   "cell_type": "code",
   "execution_count": 18,
   "metadata": {},
   "outputs": [
    {
     "data": {
      "text/plain": [
       "[4, 6, 8, 17, 32]"
      ]
     },
     "execution_count": 18,
     "metadata": {},
     "output_type": "execute_result"
    }
   ],
   "source": [
    "bad_joins = [i for i in range(1,41) if i not in matches]\n",
    "bad_joins"
   ]
  },
  {
   "cell_type": "code",
   "execution_count": 19,
   "metadata": {},
   "outputs": [],
   "source": [
    "df_districts_v2.reset_index(inplace=True)"
   ]
  },
  {
   "cell_type": "markdown",
   "metadata": {},
   "source": [
    "#### Fix bad join lookups here"
   ]
  },
  {
   "cell_type": "code",
   "execution_count": 20,
   "metadata": {},
   "outputs": [
    {
     "data": {
      "text/html": [
       "<div>\n",
       "<style scoped>\n",
       "    .dataframe tbody tr th:only-of-type {\n",
       "        vertical-align: middle;\n",
       "    }\n",
       "\n",
       "    .dataframe tbody tr th {\n",
       "        vertical-align: top;\n",
       "    }\n",
       "\n",
       "    .dataframe thead th {\n",
       "        text-align: right;\n",
       "    }\n",
       "</style>\n",
       "<table border=\"1\" class=\"dataframe\">\n",
       "  <thead>\n",
       "    <tr style=\"text-align: right;\">\n",
       "      <th></th>\n",
       "      <th>index</th>\n",
       "      <th>senateId</th>\n",
       "      <th>name</th>\n",
       "    </tr>\n",
       "  </thead>\n",
       "  <tbody>\n",
       "    <tr>\n",
       "      <td>3</td>\n",
       "      <td>11</td>\n",
       "      <td>4</td>\n",
       "      <td>Berkshire &amp; Hampshire &amp; Franklin &amp; Hampden</td>\n",
       "    </tr>\n",
       "    <tr>\n",
       "      <td>5</td>\n",
       "      <td>6</td>\n",
       "      <td>6</td>\n",
       "      <td>Hampshire &amp; Franklin &amp; Worcester</td>\n",
       "    </tr>\n",
       "    <tr>\n",
       "      <td>7</td>\n",
       "      <td>2</td>\n",
       "      <td>8</td>\n",
       "      <td>Worcester &amp; Hampden &amp; Hampshire &amp; Middlesex</td>\n",
       "    </tr>\n",
       "    <tr>\n",
       "      <td>16</td>\n",
       "      <td>0</td>\n",
       "      <td>17</td>\n",
       "      <td>Norfolk &amp; Bristol &amp; Middlesex</td>\n",
       "    </tr>\n",
       "    <tr>\n",
       "      <td>31</td>\n",
       "      <td>1</td>\n",
       "      <td>32</td>\n",
       "      <td>Norfolk &amp; Bristol &amp; Plymouth</td>\n",
       "    </tr>\n",
       "  </tbody>\n",
       "</table>\n",
       "</div>"
      ],
      "text/plain": [
       "    index  senateId                                         name\n",
       "3      11         4   Berkshire & Hampshire & Franklin & Hampden\n",
       "5       6         6             Hampshire & Franklin & Worcester\n",
       "7       2         8  Worcester & Hampden & Hampshire & Middlesex\n",
       "16      0        17                Norfolk & Bristol & Middlesex\n",
       "31      1        32                 Norfolk & Bristol & Plymouth"
      ]
     },
     "execution_count": 20,
     "metadata": {},
     "output_type": "execute_result"
    }
   ],
   "source": [
    "df_districts_v2[df_districts_v2['senateId'].isin(bad_joins)]"
   ]
  },
  {
   "cell_type": "code",
   "execution_count": 21,
   "metadata": {
    "collapsed": true
   },
   "outputs": [
    {
     "name": "stderr",
     "output_type": "stream",
     "text": [
      "C:\\Users\\wsutt\\Anaconda3\\lib\\site-packages\\ipykernel_launcher.py:1: SettingWithCopyWarning: \n",
      "A value is trying to be set on a copy of a slice from a DataFrame.\n",
      "Try using .loc[row_indexer,col_indexer] = value instead\n",
      "\n",
      "See the caveats in the documentation: http://pandas.pydata.org/pandas-docs/stable/user_guide/indexing.html#returning-a-view-versus-a-copy\n",
      "  \"\"\"Entry point for launching an IPython kernel.\n"
     ]
    }
   ],
   "source": [
    "df_districts_v2['name2'] = df_districts_v2['name']"
   ]
  },
  {
   "cell_type": "code",
   "execution_count": 22,
   "metadata": {
    "collapsed": true
   },
   "outputs": [
    {
     "name": "stderr",
     "output_type": "stream",
     "text": [
      "C:\\Users\\wsutt\\Anaconda3\\lib\\site-packages\\pandas\\core\\indexing.py:494: SettingWithCopyWarning: \n",
      "A value is trying to be set on a copy of a slice from a DataFrame.\n",
      "Try using .loc[row_indexer,col_indexer] = value instead\n",
      "\n",
      "See the caveats in the documentation: http://pandas.pydata.org/pandas-docs/stable/user_guide/indexing.html#returning-a-view-versus-a-copy\n",
      "  self.obj[item] = s\n"
     ]
    }
   ],
   "source": [
    "df_districts_v2.iloc[3,3] = 'Berkshire'\n",
    "df_districts_v2.iloc[5,3] = 'Hampshire'\n",
    "df_districts_v2.iloc[7,3] = 'Worcester'\n",
    "df_districts_v2.iloc[16,3] = 'Norfolk'"
   ]
  },
  {
   "cell_type": "code",
   "execution_count": 23,
   "metadata": {},
   "outputs": [
    {
     "data": {
      "text/html": [
       "<div>\n",
       "<style scoped>\n",
       "    .dataframe tbody tr th:only-of-type {\n",
       "        vertical-align: middle;\n",
       "    }\n",
       "\n",
       "    .dataframe tbody tr th {\n",
       "        vertical-align: top;\n",
       "    }\n",
       "\n",
       "    .dataframe thead th {\n",
       "        text-align: right;\n",
       "    }\n",
       "</style>\n",
       "<table border=\"1\" class=\"dataframe\">\n",
       "  <thead>\n",
       "    <tr style=\"text-align: right;\">\n",
       "      <th></th>\n",
       "      <th>index</th>\n",
       "      <th>senateId</th>\n",
       "      <th>name</th>\n",
       "      <th>name2</th>\n",
       "    </tr>\n",
       "  </thead>\n",
       "  <tbody>\n",
       "    <tr>\n",
       "      <td>3</td>\n",
       "      <td>11</td>\n",
       "      <td>4</td>\n",
       "      <td>Berkshire &amp; Hampshire &amp; Franklin &amp; Hampden</td>\n",
       "      <td>Berkshire</td>\n",
       "    </tr>\n",
       "    <tr>\n",
       "      <td>5</td>\n",
       "      <td>6</td>\n",
       "      <td>6</td>\n",
       "      <td>Hampshire &amp; Franklin &amp; Worcester</td>\n",
       "      <td>Hampshire</td>\n",
       "    </tr>\n",
       "    <tr>\n",
       "      <td>7</td>\n",
       "      <td>2</td>\n",
       "      <td>8</td>\n",
       "      <td>Worcester &amp; Hampden &amp; Hampshire &amp; Middlesex</td>\n",
       "      <td>Worcester</td>\n",
       "    </tr>\n",
       "    <tr>\n",
       "      <td>16</td>\n",
       "      <td>0</td>\n",
       "      <td>17</td>\n",
       "      <td>Norfolk &amp; Bristol &amp; Middlesex</td>\n",
       "      <td>Norfolk</td>\n",
       "    </tr>\n",
       "    <tr>\n",
       "      <td>31</td>\n",
       "      <td>1</td>\n",
       "      <td>32</td>\n",
       "      <td>Norfolk &amp; Bristol &amp; Plymouth</td>\n",
       "      <td>Norfolk &amp; Bristol &amp; Plymouth</td>\n",
       "    </tr>\n",
       "  </tbody>\n",
       "</table>\n",
       "</div>"
      ],
      "text/plain": [
       "    index  senateId                                         name  \\\n",
       "3      11         4   Berkshire & Hampshire & Franklin & Hampden   \n",
       "5       6         6             Hampshire & Franklin & Worcester   \n",
       "7       2         8  Worcester & Hampden & Hampshire & Middlesex   \n",
       "16      0        17                Norfolk & Bristol & Middlesex   \n",
       "31      1        32                 Norfolk & Bristol & Plymouth   \n",
       "\n",
       "                           name2  \n",
       "3                      Berkshire  \n",
       "5                      Hampshire  \n",
       "7                      Worcester  \n",
       "16                       Norfolk  \n",
       "31  Norfolk & Bristol & Plymouth  "
      ]
     },
     "execution_count": 23,
     "metadata": {},
     "output_type": "execute_result"
    }
   ],
   "source": [
    "df_districts_v2[df_districts_v2['senateId'].isin(bad_joins)]"
   ]
  },
  {
   "cell_type": "markdown",
   "metadata": {},
   "source": [
    "#### re-merge on new name2 lookup col"
   ]
  },
  {
   "cell_type": "code",
   "execution_count": 25,
   "metadata": {},
   "outputs": [
    {
     "data": {
      "text/plain": [
       "Index(['Name', 'Latitude', 'Longitude', 'Income Amount', 'Asset Amount',\n",
       "       'MNN Sector', 'Senate District', 'mnnSector_x', 'mnnSector_y',\n",
       "       'sectorName', 'mnnSectorCode', 'senateId', 'name', 'senateId2'],\n",
       "      dtype='object')"
      ]
     },
     "execution_count": 25,
     "metadata": {},
     "output_type": "execute_result"
    }
   ],
   "source": [
    "df_final.columns"
   ]
  },
  {
   "cell_type": "code",
   "execution_count": 26,
   "metadata": {},
   "outputs": [],
   "source": [
    "tmp = pd.merge(df_final, \n",
    "         df_districts_v2, \n",
    "         how='left', \n",
    "         left_on='Senate District',\n",
    "         right_on='name2'\n",
    "        )"
   ]
  },
  {
   "cell_type": "code",
   "execution_count": 37,
   "metadata": {},
   "outputs": [
    {
     "data": {
      "text/plain": [
       "(29, 4825, 29)"
      ]
     },
     "execution_count": 37,
     "metadata": {},
     "output_type": "execute_result"
    }
   ],
   "source": [
    "(sum(tmp['Senate District'].isna()),\n",
    " sum(tmp['senateId_x'].isna()),\n",
    " sum(tmp['senateId_y'].isna())\n",
    ")"
   ]
  },
  {
   "cell_type": "code",
   "execution_count": 38,
   "metadata": {},
   "outputs": [],
   "source": [
    "df_final = tmp.copy()"
   ]
  },
  {
   "cell_type": "code",
   "execution_count": 39,
   "metadata": {},
   "outputs": [
    {
     "data": {
      "text/plain": [
       "['Name',\n",
       " 'Latitude',\n",
       " 'Longitude',\n",
       " 'Income Amount',\n",
       " 'Asset Amount',\n",
       " 'MNN Sector',\n",
       " 'Senate District',\n",
       " 'mnnSector_x',\n",
       " 'mnnSector_y',\n",
       " 'sectorName',\n",
       " 'mnnSectorCode',\n",
       " 'senateId_x',\n",
       " 'name_x',\n",
       " 'senateId2',\n",
       " 'index',\n",
       " 'senateId_y',\n",
       " 'name_y',\n",
       " 'name2']"
      ]
     },
     "execution_count": 39,
     "metadata": {},
     "output_type": "execute_result"
    }
   ],
   "source": [
    "list(df_final.columns)"
   ]
  },
  {
   "cell_type": "markdown",
   "metadata": {},
   "source": [
    "#### Rename + Reorder Cols to Match Query"
   ]
  },
  {
   "cell_type": "code",
   "execution_count": 40,
   "metadata": {},
   "outputs": [
    {
     "data": {
      "text/plain": [
       "['Name',\n",
       " 'Latitude',\n",
       " 'Longitude',\n",
       " 'senateId',\n",
       " 'incomeAmount',\n",
       " 'mnnSectorCode',\n",
       " 'assetAmount']"
      ]
     },
     "execution_count": 40,
     "metadata": {},
     "output_type": "execute_result"
    }
   ],
   "source": [
    "query_cols\n",
    "cols = query_cols.split(', ')\n",
    "cols"
   ]
  },
  {
   "cell_type": "code",
   "execution_count": 41,
   "metadata": {},
   "outputs": [],
   "source": [
    "df_final = df_final[['Name', 'Latitude', 'Longitude', \n",
    "                  'senateId_y','Income Amount', 'mnnSectorCode', \n",
    "                  'Asset Amount']]"
   ]
  },
  {
   "cell_type": "code",
   "execution_count": 42,
   "metadata": {},
   "outputs": [],
   "source": [
    "df_final.columns = cols"
   ]
  },
  {
   "cell_type": "markdown",
   "metadata": {},
   "source": [
    "#### Analyze"
   ]
  },
  {
   "cell_type": "code",
   "execution_count": 43,
   "metadata": {},
   "outputs": [
    {
     "data": {
      "text/html": [
       "<div>\n",
       "<style scoped>\n",
       "    .dataframe tbody tr th:only-of-type {\n",
       "        vertical-align: middle;\n",
       "    }\n",
       "\n",
       "    .dataframe tbody tr th {\n",
       "        vertical-align: top;\n",
       "    }\n",
       "\n",
       "    .dataframe thead th {\n",
       "        text-align: right;\n",
       "    }\n",
       "</style>\n",
       "<table border=\"1\" class=\"dataframe\">\n",
       "  <thead>\n",
       "    <tr style=\"text-align: right;\">\n",
       "      <th></th>\n",
       "      <th>Name</th>\n",
       "      <th>Latitude</th>\n",
       "      <th>Longitude</th>\n",
       "      <th>senateId</th>\n",
       "      <th>incomeAmount</th>\n",
       "      <th>mnnSectorCode</th>\n",
       "      <th>assetAmount</th>\n",
       "    </tr>\n",
       "  </thead>\n",
       "  <tbody>\n",
       "    <tr>\n",
       "      <td>0</td>\n",
       "      <td>04 FOUNDATION INC</td>\n",
       "      <td>42.583460</td>\n",
       "      <td>-70.776972</td>\n",
       "      <td>20.0</td>\n",
       "      <td>NaN</td>\n",
       "      <td>6</td>\n",
       "      <td>NaN</td>\n",
       "    </tr>\n",
       "    <tr>\n",
       "      <td>1</td>\n",
       "      <td>1000 FRIENDS OF MASSACHUSETTS INC</td>\n",
       "      <td>42.358245</td>\n",
       "      <td>-71.062141</td>\n",
       "      <td>27.0</td>\n",
       "      <td>0.0</td>\n",
       "      <td>11</td>\n",
       "      <td>0.0</td>\n",
       "    </tr>\n",
       "    <tr>\n",
       "      <td>2</td>\n",
       "      <td>100TH BOMB GROUP FOUNDATION INC</td>\n",
       "      <td>42.357350</td>\n",
       "      <td>-71.054848</td>\n",
       "      <td>27.0</td>\n",
       "      <td>45965.0</td>\n",
       "      <td>4</td>\n",
       "      <td>196429.0</td>\n",
       "    </tr>\n",
       "  </tbody>\n",
       "</table>\n",
       "</div>"
      ],
      "text/plain": [
       "                                Name   Latitude  Longitude  senateId  \\\n",
       "0                  04 FOUNDATION INC  42.583460 -70.776972      20.0   \n",
       "1  1000 FRIENDS OF MASSACHUSETTS INC  42.358245 -71.062141      27.0   \n",
       "2    100TH BOMB GROUP FOUNDATION INC  42.357350 -71.054848      27.0   \n",
       "\n",
       "   incomeAmount  mnnSectorCode  assetAmount  \n",
       "0           NaN              6          NaN  \n",
       "1           0.0             11          0.0  \n",
       "2       45965.0              4     196429.0  "
      ]
     },
     "execution_count": 43,
     "metadata": {},
     "output_type": "execute_result"
    }
   ],
   "source": [
    "df_final.head(3)"
   ]
  },
  {
   "cell_type": "code",
   "execution_count": 50,
   "metadata": {},
   "outputs": [
    {
     "data": {
      "text/plain": [
       "Name              object\n",
       "Latitude         float64\n",
       "Longitude        float64\n",
       "senateId           int32\n",
       "incomeAmount     float64\n",
       "mnnSectorCode      int64\n",
       "assetAmount      float64\n",
       "dtype: object"
      ]
     },
     "execution_count": 50,
     "metadata": {},
     "output_type": "execute_result"
    }
   ],
   "source": [
    "df_final.dtypes"
   ]
  },
  {
   "cell_type": "code",
   "execution_count": 51,
   "metadata": {
    "collapsed": true
   },
   "outputs": [
    {
     "name": "stderr",
     "output_type": "stream",
     "text": [
      "C:\\Users\\wsutt\\Anaconda3\\lib\\site-packages\\ipykernel_launcher.py:2: SettingWithCopyWarning: \n",
      "A value is trying to be set on a copy of a slice from a DataFrame.\n",
      "Try using .loc[row_indexer,col_indexer] = value instead\n",
      "\n",
      "See the caveats in the documentation: http://pandas.pydata.org/pandas-docs/stable/user_guide/indexing.html#returning-a-view-versus-a-copy\n",
      "  \n"
     ]
    }
   ],
   "source": [
    "df_final.fillna(-1, inplace=True)\n",
    "df_final['senateId'] = df_final['senateId'].astype('int')"
   ]
  },
  {
   "cell_type": "code",
   "execution_count": 52,
   "metadata": {},
   "outputs": [
    {
     "data": {
      "text/plain": [
       "Name              object\n",
       "Latitude         float64\n",
       "Longitude        float64\n",
       "senateId           int32\n",
       "incomeAmount     float64\n",
       "mnnSectorCode      int64\n",
       "assetAmount      float64\n",
       "dtype: object"
      ]
     },
     "execution_count": 52,
     "metadata": {},
     "output_type": "execute_result"
    }
   ],
   "source": [
    "df_final.dtypes"
   ]
  },
  {
   "cell_type": "markdown",
   "metadata": {},
   "source": [
    "#### Output the dataframe"
   ]
  },
  {
   "cell_type": "code",
   "execution_count": 53,
   "metadata": {},
   "outputs": [],
   "source": [
    "df_final.to_csv('output/df_final_1.csv', index=False)"
   ]
  },
  {
   "cell_type": "code",
   "execution_count": null,
   "metadata": {},
   "outputs": [],
   "source": []
  },
  {
   "cell_type": "code",
   "execution_count": null,
   "metadata": {},
   "outputs": [],
   "source": []
  },
  {
   "cell_type": "code",
   "execution_count": null,
   "metadata": {},
   "outputs": [],
   "source": []
  },
  {
   "cell_type": "code",
   "execution_count": null,
   "metadata": {},
   "outputs": [],
   "source": []
  },
  {
   "cell_type": "markdown",
   "metadata": {},
   "source": [
    "#### Scratch work"
   ]
  },
  {
   "cell_type": "code",
   "execution_count": null,
   "metadata": {},
   "outputs": [],
   "source": []
  },
  {
   "cell_type": "code",
   "execution_count": null,
   "metadata": {},
   "outputs": [],
   "source": [
    "orgDataTable.addColumn('number','Youth & Education');       //1\n",
    "orgDataTable.addColumn('number','Human Services');  \n",
    "orgDataTable.addColumn('number','Other');  \n",
    "orgDataTable.addColumn('number','Arts & Culture');  \n",
    "orgDataTable.addColumn('number','Religious Organizations');  //5\n",
    "orgDataTable.addColumn('number','Philanthropy');  \n",
    "orgDataTable.addColumn('number','Housing');  \n",
    "orgDataTable.addColumn('number','Healthcare');  \n",
    "orgDataTable.addColumn('number','NA');  \n",
    "orgDataTable.addColumn('number','Human Rights');            //10\n",
    "orgDataTable.addColumn('number','Environment & Nature');  \n",
    "orgDataTable.addColumn('number','NAN');  "
   ]
  },
  {
   "cell_type": "code",
   "execution_count": 23,
   "metadata": {},
   "outputs": [
    {
     "data": {
      "text/plain": [
       "10"
      ]
     },
     "execution_count": 23,
     "metadata": {},
     "output_type": "execute_result"
    }
   ],
   "source": [
    "len(df_fusion['MNN Sector'].value_counts())"
   ]
  },
  {
   "cell_type": "code",
   "execution_count": 21,
   "metadata": {},
   "outputs": [
    {
     "data": {
      "text/plain": [
       "'Name, Latitude, Longitude, senateId, incomeAmount, mnnSectorCode, assetAmount'"
      ]
     },
     "execution_count": 21,
     "metadata": {},
     "output_type": "execute_result"
    }
   ],
   "source": [
    "query_col"
   ]
  },
  {
   "cell_type": "code",
   "execution_count": 17,
   "metadata": {},
   "outputs": [
    {
     "data": {
      "text/html": [
       "<div>\n",
       "<style scoped>\n",
       "    .dataframe tbody tr th:only-of-type {\n",
       "        vertical-align: middle;\n",
       "    }\n",
       "\n",
       "    .dataframe tbody tr th {\n",
       "        vertical-align: top;\n",
       "    }\n",
       "\n",
       "    .dataframe thead th {\n",
       "        text-align: right;\n",
       "    }\n",
       "</style>\n",
       "<table border=\"1\" class=\"dataframe\">\n",
       "  <thead>\n",
       "    <tr style=\"text-align: right;\">\n",
       "      <th></th>\n",
       "      <th>senateId</th>\n",
       "      <th>name</th>\n",
       "    </tr>\n",
       "  </thead>\n",
       "  <tbody>\n",
       "    <tr>\n",
       "      <td>32</td>\n",
       "      <td>1</td>\n",
       "      <td>First Suffolk</td>\n",
       "    </tr>\n",
       "    <tr>\n",
       "      <td>29</td>\n",
       "      <td>2</td>\n",
       "      <td>Second Suffolk</td>\n",
       "    </tr>\n",
       "    <tr>\n",
       "      <td>21</td>\n",
       "      <td>3</td>\n",
       "      <td>Hampden</td>\n",
       "    </tr>\n",
       "    <tr>\n",
       "      <td>11</td>\n",
       "      <td>4</td>\n",
       "      <td>Berkshire &amp; Hampshire &amp; Franklin &amp; Hampden</td>\n",
       "    </tr>\n",
       "    <tr>\n",
       "      <td>9</td>\n",
       "      <td>5</td>\n",
       "      <td>Second Hampden &amp; Hampshire</td>\n",
       "    </tr>\n",
       "    <tr>\n",
       "      <td>6</td>\n",
       "      <td>6</td>\n",
       "      <td>Hampshire &amp; Franklin &amp; Worcester</td>\n",
       "    </tr>\n",
       "    <tr>\n",
       "      <td>8</td>\n",
       "      <td>7</td>\n",
       "      <td>First Hampden &amp; Hampshire</td>\n",
       "    </tr>\n",
       "    <tr>\n",
       "      <td>2</td>\n",
       "      <td>8</td>\n",
       "      <td>Worcester &amp; Hampden &amp; Hampshire &amp; Middlesex</td>\n",
       "    </tr>\n",
       "    <tr>\n",
       "      <td>22</td>\n",
       "      <td>9</td>\n",
       "      <td>Worcester &amp; Middlesex</td>\n",
       "    </tr>\n",
       "    <tr>\n",
       "      <td>24</td>\n",
       "      <td>10</td>\n",
       "      <td>First Worcester</td>\n",
       "    </tr>\n",
       "    <tr>\n",
       "      <td>18</td>\n",
       "      <td>11</td>\n",
       "      <td>Second Worcester</td>\n",
       "    </tr>\n",
       "    <tr>\n",
       "      <td>14</td>\n",
       "      <td>12</td>\n",
       "      <td>Worcester &amp; Norfolk</td>\n",
       "    </tr>\n",
       "    <tr>\n",
       "      <td>34</td>\n",
       "      <td>13</td>\n",
       "      <td>First Middlesex</td>\n",
       "    </tr>\n",
       "    <tr>\n",
       "      <td>10</td>\n",
       "      <td>14</td>\n",
       "      <td>Middlesex &amp; Worcester</td>\n",
       "    </tr>\n",
       "    <tr>\n",
       "      <td>17</td>\n",
       "      <td>15</td>\n",
       "      <td>Second Middlesex &amp; Norfolk</td>\n",
       "    </tr>\n",
       "    <tr>\n",
       "      <td>7</td>\n",
       "      <td>16</td>\n",
       "      <td>Third Middlesex</td>\n",
       "    </tr>\n",
       "    <tr>\n",
       "      <td>0</td>\n",
       "      <td>17</td>\n",
       "      <td>Norfolk &amp; Bristol &amp; Middlesex</td>\n",
       "    </tr>\n",
       "    <tr>\n",
       "      <td>33</td>\n",
       "      <td>18</td>\n",
       "      <td>Second Essex &amp; Middlesex</td>\n",
       "    </tr>\n",
       "    <tr>\n",
       "      <td>19</td>\n",
       "      <td>19</td>\n",
       "      <td>First Essex</td>\n",
       "    </tr>\n",
       "    <tr>\n",
       "      <td>5</td>\n",
       "      <td>20</td>\n",
       "      <td>First Essex &amp; Middlesex</td>\n",
       "    </tr>\n",
       "    <tr>\n",
       "      <td>23</td>\n",
       "      <td>21</td>\n",
       "      <td>Second Essex</td>\n",
       "    </tr>\n",
       "    <tr>\n",
       "      <td>31</td>\n",
       "      <td>22</td>\n",
       "      <td>Third Essex</td>\n",
       "    </tr>\n",
       "    <tr>\n",
       "      <td>37</td>\n",
       "      <td>23</td>\n",
       "      <td>Fifth Middlesex</td>\n",
       "    </tr>\n",
       "    <tr>\n",
       "      <td>28</td>\n",
       "      <td>24</td>\n",
       "      <td>Fourth Middlesex</td>\n",
       "    </tr>\n",
       "    <tr>\n",
       "      <td>36</td>\n",
       "      <td>25</td>\n",
       "      <td>Second Middlesex</td>\n",
       "    </tr>\n",
       "    <tr>\n",
       "      <td>30</td>\n",
       "      <td>26</td>\n",
       "      <td>Middlesex &amp; Suffolk</td>\n",
       "    </tr>\n",
       "    <tr>\n",
       "      <td>35</td>\n",
       "      <td>27</td>\n",
       "      <td>First Suffolk &amp; Middlesex</td>\n",
       "    </tr>\n",
       "    <tr>\n",
       "      <td>26</td>\n",
       "      <td>28</td>\n",
       "      <td>Second Suffolk &amp; Middlesex</td>\n",
       "    </tr>\n",
       "    <tr>\n",
       "      <td>16</td>\n",
       "      <td>29</td>\n",
       "      <td>First Middlesex &amp; Norfolk</td>\n",
       "    </tr>\n",
       "    <tr>\n",
       "      <td>3</td>\n",
       "      <td>30</td>\n",
       "      <td>Norfolk &amp; Suffolk</td>\n",
       "    </tr>\n",
       "    <tr>\n",
       "      <td>4</td>\n",
       "      <td>31</td>\n",
       "      <td>Bristol &amp; Norfolk</td>\n",
       "    </tr>\n",
       "    <tr>\n",
       "      <td>1</td>\n",
       "      <td>32</td>\n",
       "      <td>Norfolk &amp; Bristol &amp; Plymouth</td>\n",
       "    </tr>\n",
       "    <tr>\n",
       "      <td>27</td>\n",
       "      <td>33</td>\n",
       "      <td>Norfolk &amp; Plymouth</td>\n",
       "    </tr>\n",
       "    <tr>\n",
       "      <td>38</td>\n",
       "      <td>34</td>\n",
       "      <td>Plymouth &amp; Norfolk</td>\n",
       "    </tr>\n",
       "    <tr>\n",
       "      <td>20</td>\n",
       "      <td>35</td>\n",
       "      <td>Second Plymouth &amp; Bristol</td>\n",
       "    </tr>\n",
       "    <tr>\n",
       "      <td>15</td>\n",
       "      <td>36</td>\n",
       "      <td>First Plymouth &amp; Bristol</td>\n",
       "    </tr>\n",
       "    <tr>\n",
       "      <td>13</td>\n",
       "      <td>37</td>\n",
       "      <td>First Bristol &amp; Plymouth</td>\n",
       "    </tr>\n",
       "    <tr>\n",
       "      <td>39</td>\n",
       "      <td>38</td>\n",
       "      <td>Second Bristol &amp; Plymouth</td>\n",
       "    </tr>\n",
       "    <tr>\n",
       "      <td>12</td>\n",
       "      <td>39</td>\n",
       "      <td>Plymouth &amp; Barnstable</td>\n",
       "    </tr>\n",
       "    <tr>\n",
       "      <td>25</td>\n",
       "      <td>40</td>\n",
       "      <td>Cape &amp; Islands</td>\n",
       "    </tr>\n",
       "  </tbody>\n",
       "</table>\n",
       "</div>"
      ],
      "text/plain": [
       "    senateId                                         name\n",
       "32         1                                First Suffolk\n",
       "29         2                               Second Suffolk\n",
       "21         3                                      Hampden\n",
       "11         4   Berkshire & Hampshire & Franklin & Hampden\n",
       "9          5                   Second Hampden & Hampshire\n",
       "6          6             Hampshire & Franklin & Worcester\n",
       "8          7                    First Hampden & Hampshire\n",
       "2          8  Worcester & Hampden & Hampshire & Middlesex\n",
       "22         9                        Worcester & Middlesex\n",
       "24        10                              First Worcester\n",
       "18        11                             Second Worcester\n",
       "14        12                          Worcester & Norfolk\n",
       "34        13                              First Middlesex\n",
       "10        14                        Middlesex & Worcester\n",
       "17        15                   Second Middlesex & Norfolk\n",
       "7         16                              Third Middlesex\n",
       "0         17                Norfolk & Bristol & Middlesex\n",
       "33        18                     Second Essex & Middlesex\n",
       "19        19                                  First Essex\n",
       "5         20                      First Essex & Middlesex\n",
       "23        21                                 Second Essex\n",
       "31        22                                  Third Essex\n",
       "37        23                              Fifth Middlesex\n",
       "28        24                             Fourth Middlesex\n",
       "36        25                             Second Middlesex\n",
       "30        26                          Middlesex & Suffolk\n",
       "35        27                    First Suffolk & Middlesex\n",
       "26        28                   Second Suffolk & Middlesex\n",
       "16        29                    First Middlesex & Norfolk\n",
       "3         30                            Norfolk & Suffolk\n",
       "4         31                            Bristol & Norfolk\n",
       "1         32                 Norfolk & Bristol & Plymouth\n",
       "27        33                           Norfolk & Plymouth\n",
       "38        34                           Plymouth & Norfolk\n",
       "20        35                    Second Plymouth & Bristol\n",
       "15        36                     First Plymouth & Bristol\n",
       "13        37                     First Bristol & Plymouth\n",
       "39        38                    Second Bristol & Plymouth\n",
       "12        39                        Plymouth & Barnstable\n",
       "25        40                               Cape & Islands"
      ]
     },
     "execution_count": 17,
     "metadata": {},
     "output_type": "execute_result"
    }
   ],
   "source": [
    "df_districts_v2"
   ]
  },
  {
   "cell_type": "code",
   "execution_count": null,
   "metadata": {},
   "outputs": [],
   "source": []
  },
  {
   "cell_type": "code",
   "execution_count": 5,
   "metadata": {},
   "outputs": [
    {
     "data": {
      "text/html": [
       "<div>\n",
       "<style scoped>\n",
       "    .dataframe tbody tr th:only-of-type {\n",
       "        vertical-align: middle;\n",
       "    }\n",
       "\n",
       "    .dataframe tbody tr th {\n",
       "        vertical-align: top;\n",
       "    }\n",
       "\n",
       "    .dataframe thead th {\n",
       "        text-align: right;\n",
       "    }\n",
       "</style>\n",
       "<table border=\"1\" class=\"dataframe\">\n",
       "  <thead>\n",
       "    <tr style=\"text-align: right;\">\n",
       "      <th></th>\n",
       "      <th>X</th>\n",
       "      <th>EIN</th>\n",
       "      <th>Name</th>\n",
       "      <th>Latitude</th>\n",
       "      <th>Longitude</th>\n",
       "      <th>Address</th>\n",
       "      <th>City</th>\n",
       "      <th>State</th>\n",
       "      <th>Zip Code</th>\n",
       "      <th>Classification</th>\n",
       "      <th>...</th>\n",
       "      <th>County</th>\n",
       "      <th>House District</th>\n",
       "      <th>Senate District</th>\n",
       "      <th>Congressional District</th>\n",
       "      <th>Years Exempt</th>\n",
       "      <th>Designation 501c</th>\n",
       "      <th>Affiliation Type</th>\n",
       "      <th>School</th>\n",
       "      <th>Org Type</th>\n",
       "      <th>MNN Status</th>\n",
       "    </tr>\n",
       "  </thead>\n",
       "  <tbody>\n",
       "    <tr>\n",
       "      <td>0</td>\n",
       "      <td>1.0</td>\n",
       "      <td>454469512.0</td>\n",
       "      <td>04 FOUNDATION INC</td>\n",
       "      <td>42.583460</td>\n",
       "      <td>-70.776972</td>\n",
       "      <td>93 PLEASANT ST</td>\n",
       "      <td>MANCHESTER</td>\n",
       "      <td>MA</td>\n",
       "      <td>01944-1107</td>\n",
       "      <td>Charitable Organization</td>\n",
       "      <td>...</td>\n",
       "      <td>ESSEX</td>\n",
       "      <td>4th Essex</td>\n",
       "      <td>First Essex &amp; Middlesex</td>\n",
       "      <td>6.0</td>\n",
       "      <td>1.249315</td>\n",
       "      <td>3</td>\n",
       "      <td>Indepedent</td>\n",
       "      <td>Priv.Op.Found.Other</td>\n",
       "      <td>Corporation</td>\n",
       "      <td>False</td>\n",
       "    </tr>\n",
       "    <tr>\n",
       "      <td>1</td>\n",
       "      <td>2.0</td>\n",
       "      <td>222988006.0</td>\n",
       "      <td>1000 FRIENDS OF MASSACHUSETTS INC</td>\n",
       "      <td>42.358245</td>\n",
       "      <td>-71.062141</td>\n",
       "      <td>14 BEACON STREET</td>\n",
       "      <td>BOSTON</td>\n",
       "      <td>MA</td>\n",
       "      <td>02108-3704</td>\n",
       "      <td>Charitable Organization</td>\n",
       "      <td>...</td>\n",
       "      <td>SUFFOLK</td>\n",
       "      <td>3rd Suffolk</td>\n",
       "      <td>First Suffolk &amp; Middlesex</td>\n",
       "      <td>8.0</td>\n",
       "      <td>18.761644</td>\n",
       "      <td>3</td>\n",
       "      <td>Indepedent</td>\n",
       "      <td>Priv.Op.Found.Other</td>\n",
       "      <td>Corporation</td>\n",
       "      <td>False</td>\n",
       "    </tr>\n",
       "    <tr>\n",
       "      <td>2</td>\n",
       "      <td>3.0</td>\n",
       "      <td>930917084.0</td>\n",
       "      <td>100TH BOMB GROUP FOUNDATION INC</td>\n",
       "      <td>42.357350</td>\n",
       "      <td>-71.054848</td>\n",
       "      <td>2 OLIVER ST</td>\n",
       "      <td>BOSTON</td>\n",
       "      <td>MA</td>\n",
       "      <td>02109-4901</td>\n",
       "      <td>Charitable Organization</td>\n",
       "      <td>...</td>\n",
       "      <td>SUFFOLK</td>\n",
       "      <td>3rd Suffolk</td>\n",
       "      <td>First Suffolk &amp; Middlesex</td>\n",
       "      <td>8.0</td>\n",
       "      <td>26.019178</td>\n",
       "      <td>3</td>\n",
       "      <td>Indepedent</td>\n",
       "      <td>Priv.Op.Found.Other</td>\n",
       "      <td>Corporation</td>\n",
       "      <td>False</td>\n",
       "    </tr>\n",
       "    <tr>\n",
       "      <td>3</td>\n",
       "      <td>4.0</td>\n",
       "      <td>42680019.0</td>\n",
       "      <td>101ST INFANTRY VETERANS ASSOCIATION INC</td>\n",
       "      <td>42.297001</td>\n",
       "      <td>-71.051882</td>\n",
       "      <td>70 VICTORY RD</td>\n",
       "      <td>BOSTON</td>\n",
       "      <td>MA</td>\n",
       "      <td>02122-2628</td>\n",
       "      <td>Post or Organization of War Veterans</td>\n",
       "      <td>...</td>\n",
       "      <td>SUFFOLK</td>\n",
       "      <td>13th Suffolk</td>\n",
       "      <td>First Suffolk</td>\n",
       "      <td>8.0</td>\n",
       "      <td>0.410845</td>\n",
       "      <td>19</td>\n",
       "      <td>Indepedent</td>\n",
       "      <td>Priv.Op.Found.Other</td>\n",
       "      <td>Corporation</td>\n",
       "      <td>False</td>\n",
       "    </tr>\n",
       "    <tr>\n",
       "      <td>4</td>\n",
       "      <td>5.0</td>\n",
       "      <td>42769496.0</td>\n",
       "      <td>104TH US INFANTRY VETERANS AEF ASSOCIATION INC</td>\n",
       "      <td>42.193138</td>\n",
       "      <td>-72.628099</td>\n",
       "      <td>8 COOK ST</td>\n",
       "      <td>HOLYOKE</td>\n",
       "      <td>MA</td>\n",
       "      <td>01040-3508</td>\n",
       "      <td>Post or Organization of War Veterans</td>\n",
       "      <td>...</td>\n",
       "      <td>HAMPDEN</td>\n",
       "      <td>5th Hampden</td>\n",
       "      <td>Second Hampden &amp; Hampshire</td>\n",
       "      <td>1.0</td>\n",
       "      <td>30.432763</td>\n",
       "      <td>19</td>\n",
       "      <td>Indepedent</td>\n",
       "      <td>Priv.Op.Found.Other</td>\n",
       "      <td>Corporation</td>\n",
       "      <td>False</td>\n",
       "    </tr>\n",
       "    <tr>\n",
       "      <td>...</td>\n",
       "      <td>...</td>\n",
       "      <td>...</td>\n",
       "      <td>...</td>\n",
       "      <td>...</td>\n",
       "      <td>...</td>\n",
       "      <td>...</td>\n",
       "      <td>...</td>\n",
       "      <td>...</td>\n",
       "      <td>...</td>\n",
       "      <td>...</td>\n",
       "      <td>...</td>\n",
       "      <td>...</td>\n",
       "      <td>...</td>\n",
       "      <td>...</td>\n",
       "      <td>...</td>\n",
       "      <td>...</td>\n",
       "      <td>...</td>\n",
       "      <td>...</td>\n",
       "      <td>...</td>\n",
       "      <td>...</td>\n",
       "      <td>...</td>\n",
       "    </tr>\n",
       "    <tr>\n",
       "      <td>33961</td>\n",
       "      <td>NaN</td>\n",
       "      <td>NaN</td>\n",
       "      <td>NaN</td>\n",
       "      <td>NaN</td>\n",
       "      <td>NaN</td>\n",
       "      <td>NaN</td>\n",
       "      <td>NaN</td>\n",
       "      <td>NaN</td>\n",
       "      <td>NaN</td>\n",
       "      <td>NaN</td>\n",
       "      <td>...</td>\n",
       "      <td>NaN</td>\n",
       "      <td>NaN</td>\n",
       "      <td>NaN</td>\n",
       "      <td>NaN</td>\n",
       "      <td>NaN</td>\n",
       "      <td>0</td>\n",
       "      <td>NaN</td>\n",
       "      <td>NaN</td>\n",
       "      <td>NaN</td>\n",
       "      <td>NaN</td>\n",
       "    </tr>\n",
       "    <tr>\n",
       "      <td>33962</td>\n",
       "      <td>NaN</td>\n",
       "      <td>NaN</td>\n",
       "      <td>NaN</td>\n",
       "      <td>NaN</td>\n",
       "      <td>NaN</td>\n",
       "      <td>NaN</td>\n",
       "      <td>NaN</td>\n",
       "      <td>NaN</td>\n",
       "      <td>NaN</td>\n",
       "      <td>NaN</td>\n",
       "      <td>...</td>\n",
       "      <td>NaN</td>\n",
       "      <td>NaN</td>\n",
       "      <td>NaN</td>\n",
       "      <td>NaN</td>\n",
       "      <td>NaN</td>\n",
       "      <td>0</td>\n",
       "      <td>NaN</td>\n",
       "      <td>NaN</td>\n",
       "      <td>NaN</td>\n",
       "      <td>NaN</td>\n",
       "    </tr>\n",
       "    <tr>\n",
       "      <td>33963</td>\n",
       "      <td>NaN</td>\n",
       "      <td>NaN</td>\n",
       "      <td>NaN</td>\n",
       "      <td>NaN</td>\n",
       "      <td>NaN</td>\n",
       "      <td>NaN</td>\n",
       "      <td>NaN</td>\n",
       "      <td>NaN</td>\n",
       "      <td>NaN</td>\n",
       "      <td>NaN</td>\n",
       "      <td>...</td>\n",
       "      <td>NaN</td>\n",
       "      <td>NaN</td>\n",
       "      <td>NaN</td>\n",
       "      <td>NaN</td>\n",
       "      <td>NaN</td>\n",
       "      <td>0</td>\n",
       "      <td>NaN</td>\n",
       "      <td>NaN</td>\n",
       "      <td>NaN</td>\n",
       "      <td>NaN</td>\n",
       "    </tr>\n",
       "    <tr>\n",
       "      <td>33964</td>\n",
       "      <td>NaN</td>\n",
       "      <td>NaN</td>\n",
       "      <td>NaN</td>\n",
       "      <td>NaN</td>\n",
       "      <td>NaN</td>\n",
       "      <td>NaN</td>\n",
       "      <td>NaN</td>\n",
       "      <td>NaN</td>\n",
       "      <td>NaN</td>\n",
       "      <td>NaN</td>\n",
       "      <td>...</td>\n",
       "      <td>NaN</td>\n",
       "      <td>NaN</td>\n",
       "      <td>NaN</td>\n",
       "      <td>NaN</td>\n",
       "      <td>NaN</td>\n",
       "      <td>0</td>\n",
       "      <td>NaN</td>\n",
       "      <td>NaN</td>\n",
       "      <td>NaN</td>\n",
       "      <td>NaN</td>\n",
       "    </tr>\n",
       "    <tr>\n",
       "      <td>33965</td>\n",
       "      <td>NaN</td>\n",
       "      <td>NaN</td>\n",
       "      <td>NaN</td>\n",
       "      <td>NaN</td>\n",
       "      <td>NaN</td>\n",
       "      <td>NaN</td>\n",
       "      <td>NaN</td>\n",
       "      <td>NaN</td>\n",
       "      <td>NaN</td>\n",
       "      <td>NaN</td>\n",
       "      <td>...</td>\n",
       "      <td>NaN</td>\n",
       "      <td>NaN</td>\n",
       "      <td>NaN</td>\n",
       "      <td>NaN</td>\n",
       "      <td>NaN</td>\n",
       "      <td>0</td>\n",
       "      <td>NaN</td>\n",
       "      <td>NaN</td>\n",
       "      <td>NaN</td>\n",
       "      <td>NaN</td>\n",
       "    </tr>\n",
       "  </tbody>\n",
       "</table>\n",
       "<p>33966 rows × 31 columns</p>\n",
       "</div>"
      ],
      "text/plain": [
       "         X          EIN                                            Name  \\\n",
       "0      1.0  454469512.0                               04 FOUNDATION INC   \n",
       "1      2.0  222988006.0               1000 FRIENDS OF MASSACHUSETTS INC   \n",
       "2      3.0  930917084.0                 100TH BOMB GROUP FOUNDATION INC   \n",
       "3      4.0   42680019.0         101ST INFANTRY VETERANS ASSOCIATION INC   \n",
       "4      5.0   42769496.0  104TH US INFANTRY VETERANS AEF ASSOCIATION INC   \n",
       "...    ...          ...                                             ...   \n",
       "33961  NaN          NaN                                             NaN   \n",
       "33962  NaN          NaN                                             NaN   \n",
       "33963  NaN          NaN                                             NaN   \n",
       "33964  NaN          NaN                                             NaN   \n",
       "33965  NaN          NaN                                             NaN   \n",
       "\n",
       "        Latitude  Longitude           Address        City State    Zip Code  \\\n",
       "0      42.583460 -70.776972    93 PLEASANT ST  MANCHESTER    MA  01944-1107   \n",
       "1      42.358245 -71.062141  14 BEACON STREET      BOSTON    MA  02108-3704   \n",
       "2      42.357350 -71.054848       2 OLIVER ST      BOSTON    MA  02109-4901   \n",
       "3      42.297001 -71.051882     70 VICTORY RD      BOSTON    MA  02122-2628   \n",
       "4      42.193138 -72.628099         8 COOK ST     HOLYOKE    MA  01040-3508   \n",
       "...          ...        ...               ...         ...   ...         ...   \n",
       "33961        NaN        NaN               NaN         NaN   NaN         NaN   \n",
       "33962        NaN        NaN               NaN         NaN   NaN         NaN   \n",
       "33963        NaN        NaN               NaN         NaN   NaN         NaN   \n",
       "33964        NaN        NaN               NaN         NaN   NaN         NaN   \n",
       "33965        NaN        NaN               NaN         NaN   NaN         NaN   \n",
       "\n",
       "                             Classification  ...   County House District  \\\n",
       "0                   Charitable Organization  ...    ESSEX      4th Essex   \n",
       "1                   Charitable Organization  ...  SUFFOLK    3rd Suffolk   \n",
       "2                   Charitable Organization  ...  SUFFOLK    3rd Suffolk   \n",
       "3      Post or Organization of War Veterans  ...  SUFFOLK   13th Suffolk   \n",
       "4      Post or Organization of War Veterans  ...  HAMPDEN    5th Hampden   \n",
       "...                                     ...  ...      ...            ...   \n",
       "33961                                   NaN  ...      NaN            NaN   \n",
       "33962                                   NaN  ...      NaN            NaN   \n",
       "33963                                   NaN  ...      NaN            NaN   \n",
       "33964                                   NaN  ...      NaN            NaN   \n",
       "33965                                   NaN  ...      NaN            NaN   \n",
       "\n",
       "                  Senate District Congressional District Years Exempt  \\\n",
       "0         First Essex & Middlesex                    6.0     1.249315   \n",
       "1       First Suffolk & Middlesex                    8.0    18.761644   \n",
       "2       First Suffolk & Middlesex                    8.0    26.019178   \n",
       "3                   First Suffolk                    8.0     0.410845   \n",
       "4      Second Hampden & Hampshire                    1.0    30.432763   \n",
       "...                           ...                    ...          ...   \n",
       "33961                         NaN                    NaN          NaN   \n",
       "33962                         NaN                    NaN          NaN   \n",
       "33963                         NaN                    NaN          NaN   \n",
       "33964                         NaN                    NaN          NaN   \n",
       "33965                         NaN                    NaN          NaN   \n",
       "\n",
       "      Designation 501c Affiliation Type               School     Org Type  \\\n",
       "0                    3       Indepedent  Priv.Op.Found.Other  Corporation   \n",
       "1                    3       Indepedent  Priv.Op.Found.Other  Corporation   \n",
       "2                    3       Indepedent  Priv.Op.Found.Other  Corporation   \n",
       "3                   19       Indepedent  Priv.Op.Found.Other  Corporation   \n",
       "4                   19       Indepedent  Priv.Op.Found.Other  Corporation   \n",
       "...                ...              ...                  ...          ...   \n",
       "33961                0              NaN                  NaN          NaN   \n",
       "33962                0              NaN                  NaN          NaN   \n",
       "33963                0              NaN                  NaN          NaN   \n",
       "33964                0              NaN                  NaN          NaN   \n",
       "33965                0              NaN                  NaN          NaN   \n",
       "\n",
       "       MNN Status  \n",
       "0           False  \n",
       "1           False  \n",
       "2           False  \n",
       "3           False  \n",
       "4           False  \n",
       "...           ...  \n",
       "33961         NaN  \n",
       "33962         NaN  \n",
       "33963         NaN  \n",
       "33964         NaN  \n",
       "33965         NaN  \n",
       "\n",
       "[33966 rows x 31 columns]"
      ]
     },
     "execution_count": 5,
     "metadata": {},
     "output_type": "execute_result"
    }
   ],
   "source": [
    "df_fusion"
   ]
  },
  {
   "cell_type": "code",
   "execution_count": null,
   "metadata": {},
   "outputs": [],
   "source": [
    "tblname,name,poly,incomeShared,senateIdShared"
   ]
  },
  {
   "cell_type": "code",
   "execution_count": 2,
   "metadata": {},
   "outputs": [],
   "source": [
    "query_col = 'Name, Latitude, Longitude, senateId, incomeAmount, mnnSectorCode, assetAmount'"
   ]
  },
  {
   "cell_type": "code",
   "execution_count": null,
   "metadata": {},
   "outputs": [],
   "source": []
  }
 ],
 "metadata": {
  "kernelspec": {
   "display_name": "Python [conda env:root] *",
   "language": "python",
   "name": "conda-root-py"
  },
  "language_info": {
   "codemirror_mode": {
    "name": "ipython",
    "version": 3
   },
   "file_extension": ".py",
   "mimetype": "text/x-python",
   "name": "python",
   "nbconvert_exporter": "python",
   "pygments_lexer": "ipython3",
   "version": "3.7.4"
  }
 },
 "nbformat": 4,
 "nbformat_minor": 2
}
