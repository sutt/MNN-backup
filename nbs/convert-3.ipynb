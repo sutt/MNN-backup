{
 "cells": [
  {
   "cell_type": "markdown",
   "metadata": {},
   "source": [
    "### Conversion:\n",
    "from df_final_1.csv -> district-{N}.json\n",
    "\n",
    "This will match the FusionTables query response expected by the app"
   ]
  },
  {
   "cell_type": "code",
   "execution_count": 1,
   "metadata": {},
   "outputs": [],
   "source": [
    "import json\n",
    "import pandas as pd"
   ]
  },
  {
   "cell_type": "code",
   "execution_count": 53,
   "metadata": {},
   "outputs": [],
   "source": [
    "df = pd.read_csv('output/df_final_1.csv')"
   ]
  },
  {
   "cell_type": "code",
   "execution_count": 54,
   "metadata": {},
   "outputs": [
    {
     "data": {
      "text/plain": [
       "Index(['Name', 'Latitude', 'Longitude', 'senateId', 'incomeAmount',\n",
       "       'mnnSectorCode', 'assetAmount'],\n",
       "      dtype='object')"
      ]
     },
     "execution_count": 54,
     "metadata": {},
     "output_type": "execute_result"
    }
   ],
   "source": [
    "df.columns"
   ]
  },
  {
   "cell_type": "markdown",
   "metadata": {},
   "source": [
    "#### Move these to convert-2"
   ]
  },
  {
   "cell_type": "code",
   "execution_count": 55,
   "metadata": {},
   "outputs": [],
   "source": [
    "df.fillna(0, inplace=True)"
   ]
  },
  {
   "cell_type": "code",
   "execution_count": 56,
   "metadata": {},
   "outputs": [],
   "source": [
    "df['senateId'] = df['senateId'].astype('int')"
   ]
  },
  {
   "cell_type": "code",
   "execution_count": 77,
   "metadata": {},
   "outputs": [
    {
     "data": {
      "text/plain": [
       "0     4825\n",
       "27    2197\n",
       "40    1522\n",
       "29    1396\n",
       "16    1303\n",
       "28    1152\n",
       "14    1122\n",
       "20    1021\n",
       "26    1021\n",
       "1     1005\n",
       "10     925\n",
       "2      859\n",
       "34     838\n",
       "39     817\n",
       "5      791\n",
       "30     783\n",
       "24     778\n",
       "21     769\n",
       "25     763\n",
       "15     754\n",
       "23     732\n",
       "19     702\n",
       "22     678\n",
       "31     650\n",
       "9      646\n",
       "36     588\n",
       "7      575\n",
       "12     555\n",
       "37     548\n",
       "13     548\n",
       "3      540\n",
       "11     539\n",
       "38     525\n",
       "18     523\n",
       "35     490\n",
       "33     486\n",
       "Name: senateId, dtype: int64"
      ]
     },
     "execution_count": 77,
     "metadata": {},
     "output_type": "execute_result"
    }
   ],
   "source": [
    "# something seems wrong\n",
    "df['senateId'].value_counts()"
   ]
  },
  {
   "cell_type": "markdown",
   "metadata": {},
   "source": [
    "#### slice to specfic district"
   ]
  },
  {
   "cell_type": "code",
   "execution_count": 71,
   "metadata": {},
   "outputs": [
    {
     "data": {
      "text/plain": [
       "(791, 7)"
      ]
     },
     "execution_count": 71,
     "metadata": {},
     "output_type": "execute_result"
    }
   ],
   "source": [
    "senate_id = 5\n",
    "df2 = df[df['senateId'] == senate_id]\n",
    "df2.shape"
   ]
  },
  {
   "cell_type": "markdown",
   "metadata": {},
   "source": [
    "##### convert shape to rows based array"
   ]
  },
  {
   "cell_type": "code",
   "execution_count": 73,
   "metadata": {},
   "outputs": [],
   "source": [
    "d = {}\n",
    "for k in df2.keys():\n",
    "    d[k] = df2[k].to_list()\n",
    "    \n",
    "d_len = len(d[list(d.keys())[0]])\n",
    "\n",
    "rows = []\n",
    "for i in range(d_len):\n",
    "    _row = [d[k][i] for k in list(d.keys())]\n",
    "    rows.append(_row)"
   ]
  },
  {
   "cell_type": "code",
   "execution_count": 74,
   "metadata": {},
   "outputs": [],
   "source": [
    "    \n",
    "out_rows = {'rows': rows}"
   ]
  },
  {
   "cell_type": "code",
   "execution_count": 75,
   "metadata": {},
   "outputs": [],
   "source": [
    "json.dump(out_rows, open('output/district-6.json', 'w'))"
   ]
  },
  {
   "cell_type": "code",
   "execution_count": 78,
   "metadata": {},
   "outputs": [
    {
     "data": {
      "text/html": [
       "<div>\n",
       "<style scoped>\n",
       "    .dataframe tbody tr th:only-of-type {\n",
       "        vertical-align: middle;\n",
       "    }\n",
       "\n",
       "    .dataframe tbody tr th {\n",
       "        vertical-align: top;\n",
       "    }\n",
       "\n",
       "    .dataframe thead th {\n",
       "        text-align: right;\n",
       "    }\n",
       "</style>\n",
       "<table border=\"1\" class=\"dataframe\">\n",
       "  <thead>\n",
       "    <tr style=\"text-align: right;\">\n",
       "      <th></th>\n",
       "      <th>Name</th>\n",
       "      <th>Latitude</th>\n",
       "      <th>Longitude</th>\n",
       "      <th>senateId</th>\n",
       "      <th>incomeAmount</th>\n",
       "      <th>mnnSectorCode</th>\n",
       "      <th>assetAmount</th>\n",
       "    </tr>\n",
       "  </thead>\n",
       "  <tbody>\n",
       "    <tr>\n",
       "      <td>4</td>\n",
       "      <td>104TH US INFANTRY VETERANS AEF ASSOCIATION INC</td>\n",
       "      <td>42.193138</td>\n",
       "      <td>-72.628099</td>\n",
       "      <td>5</td>\n",
       "      <td>0.0</td>\n",
       "      <td>3</td>\n",
       "      <td>0.0</td>\n",
       "    </tr>\n",
       "    <tr>\n",
       "      <td>76</td>\n",
       "      <td>4-H CLUBS &amp; AFFILIATED 4-H ORGANIZATIONS</td>\n",
       "      <td>42.191837</td>\n",
       "      <td>-72.673919</td>\n",
       "      <td>5</td>\n",
       "      <td>0.0</td>\n",
       "      <td>4</td>\n",
       "      <td>0.0</td>\n",
       "    </tr>\n",
       "    <tr>\n",
       "      <td>79</td>\n",
       "      <td>4-H CLUBS &amp; AFFILIATED 4-H ORGANIZATIONS</td>\n",
       "      <td>42.053713</td>\n",
       "      <td>-72.771746</td>\n",
       "      <td>5</td>\n",
       "      <td>0.0</td>\n",
       "      <td>4</td>\n",
       "      <td>0.0</td>\n",
       "    </tr>\n",
       "    <tr>\n",
       "      <td>80</td>\n",
       "      <td>4-H CLUBS &amp; AFFILIATED 4-H ORGANIZATIONS</td>\n",
       "      <td>42.052648</td>\n",
       "      <td>-72.804600</td>\n",
       "      <td>5</td>\n",
       "      <td>0.0</td>\n",
       "      <td>4</td>\n",
       "      <td>0.0</td>\n",
       "    </tr>\n",
       "    <tr>\n",
       "      <td>92</td>\n",
       "      <td>4-H CLUBS &amp; AFFILIATED 4-H ORGANIZATIONS</td>\n",
       "      <td>42.127629</td>\n",
       "      <td>-72.777987</td>\n",
       "      <td>5</td>\n",
       "      <td>42168.0</td>\n",
       "      <td>4</td>\n",
       "      <td>105660.0</td>\n",
       "    </tr>\n",
       "    <tr>\n",
       "      <td>...</td>\n",
       "      <td>...</td>\n",
       "      <td>...</td>\n",
       "      <td>...</td>\n",
       "      <td>...</td>\n",
       "      <td>...</td>\n",
       "      <td>...</td>\n",
       "      <td>...</td>\n",
       "    </tr>\n",
       "    <tr>\n",
       "      <td>33761</td>\n",
       "      <td>YMCA OF GREATER WESTFIELD INC</td>\n",
       "      <td>42.120059</td>\n",
       "      <td>-72.755341</td>\n",
       "      <td>5</td>\n",
       "      <td>4540737.0</td>\n",
       "      <td>2</td>\n",
       "      <td>9864534.0</td>\n",
       "    </tr>\n",
       "    <tr>\n",
       "      <td>33807</td>\n",
       "      <td>YOUNG PROFESSIONAL SOCIETY OF GREATER SPRINGFI...</td>\n",
       "      <td>42.170731</td>\n",
       "      <td>-72.604842</td>\n",
       "      <td>5</td>\n",
       "      <td>45963.0</td>\n",
       "      <td>7</td>\n",
       "      <td>19149.0</td>\n",
       "    </tr>\n",
       "    <tr>\n",
       "      <td>33811</td>\n",
       "      <td>YOUNG SINGERS OF GREATER WESTFIELD INC</td>\n",
       "      <td>42.084277</td>\n",
       "      <td>-72.677603</td>\n",
       "      <td>5</td>\n",
       "      <td>10724.0</td>\n",
       "      <td>4</td>\n",
       "      <td>5324.0</td>\n",
       "    </tr>\n",
       "    <tr>\n",
       "      <td>33822</td>\n",
       "      <td>YOUR OLIVE BRANCH INC</td>\n",
       "      <td>42.274104</td>\n",
       "      <td>-72.661739</td>\n",
       "      <td>5</td>\n",
       "      <td>57186.0</td>\n",
       "      <td>10</td>\n",
       "      <td>1394.0</td>\n",
       "    </tr>\n",
       "    <tr>\n",
       "      <td>33930</td>\n",
       "      <td>ZONTA INTERNATIONAL</td>\n",
       "      <td>42.212562</td>\n",
       "      <td>-72.664016</td>\n",
       "      <td>5</td>\n",
       "      <td>0.0</td>\n",
       "      <td>9</td>\n",
       "      <td>0.0</td>\n",
       "    </tr>\n",
       "  </tbody>\n",
       "</table>\n",
       "<p>791 rows × 7 columns</p>\n",
       "</div>"
      ],
      "text/plain": [
       "                                                    Name   Latitude  \\\n",
       "4         104TH US INFANTRY VETERANS AEF ASSOCIATION INC  42.193138   \n",
       "76              4-H CLUBS & AFFILIATED 4-H ORGANIZATIONS  42.191837   \n",
       "79              4-H CLUBS & AFFILIATED 4-H ORGANIZATIONS  42.053713   \n",
       "80              4-H CLUBS & AFFILIATED 4-H ORGANIZATIONS  42.052648   \n",
       "92              4-H CLUBS & AFFILIATED 4-H ORGANIZATIONS  42.127629   \n",
       "...                                                  ...        ...   \n",
       "33761                      YMCA OF GREATER WESTFIELD INC  42.120059   \n",
       "33807  YOUNG PROFESSIONAL SOCIETY OF GREATER SPRINGFI...  42.170731   \n",
       "33811             YOUNG SINGERS OF GREATER WESTFIELD INC  42.084277   \n",
       "33822                              YOUR OLIVE BRANCH INC  42.274104   \n",
       "33930                                ZONTA INTERNATIONAL  42.212562   \n",
       "\n",
       "       Longitude  senateId  incomeAmount  mnnSectorCode  assetAmount  \n",
       "4     -72.628099         5           0.0              3          0.0  \n",
       "76    -72.673919         5           0.0              4          0.0  \n",
       "79    -72.771746         5           0.0              4          0.0  \n",
       "80    -72.804600         5           0.0              4          0.0  \n",
       "92    -72.777987         5       42168.0              4     105660.0  \n",
       "...          ...       ...           ...            ...          ...  \n",
       "33761 -72.755341         5     4540737.0              2    9864534.0  \n",
       "33807 -72.604842         5       45963.0              7      19149.0  \n",
       "33811 -72.677603         5       10724.0              4       5324.0  \n",
       "33822 -72.661739         5       57186.0             10       1394.0  \n",
       "33930 -72.664016         5           0.0              9          0.0  \n",
       "\n",
       "[791 rows x 7 columns]"
      ]
     },
     "execution_count": 78,
     "metadata": {},
     "output_type": "execute_result"
    }
   ],
   "source": [
    "df2"
   ]
  },
  {
   "cell_type": "markdown",
   "metadata": {},
   "source": [
    "##### Now copy to file to `app/data/` directory"
   ]
  },
  {
   "cell_type": "code",
   "execution_count": null,
   "metadata": {},
   "outputs": [],
   "source": []
  }
 ],
 "metadata": {
  "kernelspec": {
   "display_name": "Python [conda env:root] *",
   "language": "python",
   "name": "conda-root-py"
  },
  "language_info": {
   "codemirror_mode": {
    "name": "ipython",
    "version": 3
   },
   "file_extension": ".py",
   "mimetype": "text/x-python",
   "name": "python",
   "nbconvert_exporter": "python",
   "pygments_lexer": "ipython3",
   "version": "3.7.4"
  }
 },
 "nbformat": 4,
 "nbformat_minor": 2
}
