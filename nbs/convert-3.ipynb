{
 "cells": [
  {
   "cell_type": "markdown",
   "metadata": {},
   "source": [
    "### Conversion:\n",
    "from df_final_1.csv -> district-{N}.json\n",
    "\n",
    "This will match the FusionTables query response expected by the app"
   ]
  },
  {
   "cell_type": "code",
   "execution_count": 20,
   "metadata": {},
   "outputs": [],
   "source": [
    "import json\n",
    "import pandas as pd"
   ]
  },
  {
   "cell_type": "code",
   "execution_count": 28,
   "metadata": {},
   "outputs": [],
   "source": [
    "df = pd.read_csv('output/df_final_1.csv')"
   ]
  },
  {
   "cell_type": "code",
   "execution_count": 29,
   "metadata": {},
   "outputs": [
    {
     "data": {
      "text/plain": [
       "Index(['Name', 'Latitude', 'Longitude', 'senateId', 'incomeAmount',\n",
       "       'mnnSectorCode', 'assetAmount'],\n",
       "      dtype='object')"
      ]
     },
     "execution_count": 29,
     "metadata": {},
     "output_type": "execute_result"
    }
   ],
   "source": [
    "df.columns"
   ]
  },
  {
   "cell_type": "markdown",
   "metadata": {},
   "source": [
    "## Example One-District Slice"
   ]
  },
  {
   "cell_type": "markdown",
   "metadata": {},
   "source": [
    "#### slice to specfic district"
   ]
  },
  {
   "cell_type": "code",
   "execution_count": 33,
   "metadata": {},
   "outputs": [
    {
     "data": {
      "text/plain": [
       "(1019, 7)"
      ]
     },
     "execution_count": 33,
     "metadata": {},
     "output_type": "execute_result"
    }
   ],
   "source": [
    "senate_id = 6\n",
    "df2 = df[df['senateId'] == senate_id]\n",
    "df2.shape"
   ]
  },
  {
   "cell_type": "markdown",
   "metadata": {},
   "source": [
    "#### sort DESC and limit = 200"
   ]
  },
  {
   "cell_type": "code",
   "execution_count": 34,
   "metadata": {},
   "outputs": [],
   "source": [
    "df2 = df2.sort_values(by='incomeAmount',ascending=False)"
   ]
  },
  {
   "cell_type": "code",
   "execution_count": 35,
   "metadata": {},
   "outputs": [
    {
     "data": {
      "text/plain": [
       "(200, 7)"
      ]
     },
     "execution_count": 35,
     "metadata": {},
     "output_type": "execute_result"
    }
   ],
   "source": [
    "N = 200\n",
    "df2 = df2.iloc[:N,:]\n",
    "df2.shape"
   ]
  },
  {
   "cell_type": "markdown",
   "metadata": {},
   "source": [
    "##### convert shape to rows based array"
   ]
  },
  {
   "cell_type": "code",
   "execution_count": 36,
   "metadata": {},
   "outputs": [],
   "source": [
    "d = {}\n",
    "for k in df2.keys():\n",
    "    d[k] = df2[k].to_list()\n",
    "    \n",
    "d_len = len(d[list(d.keys())[0]])\n",
    "\n",
    "rows = []\n",
    "for i in range(d_len):\n",
    "    _row = [d[k][i] for k in list(d.keys())]\n",
    "    rows.append(_row)"
   ]
  },
  {
   "cell_type": "code",
   "execution_count": 37,
   "metadata": {},
   "outputs": [],
   "source": [
    "    \n",
    "out_rows = {'rows': rows}"
   ]
  },
  {
   "cell_type": "code",
   "execution_count": 38,
   "metadata": {},
   "outputs": [
    {
     "name": "stdout",
     "output_type": "stream",
     "text": [
      "(200, 7)\n"
     ]
    },
    {
     "data": {
      "text/html": [
       "<div>\n",
       "<style scoped>\n",
       "    .dataframe tbody tr th:only-of-type {\n",
       "        vertical-align: middle;\n",
       "    }\n",
       "\n",
       "    .dataframe tbody tr th {\n",
       "        vertical-align: top;\n",
       "    }\n",
       "\n",
       "    .dataframe thead th {\n",
       "        text-align: right;\n",
       "    }\n",
       "</style>\n",
       "<table border=\"1\" class=\"dataframe\">\n",
       "  <thead>\n",
       "    <tr style=\"text-align: right;\">\n",
       "      <th></th>\n",
       "      <th>Name</th>\n",
       "      <th>Latitude</th>\n",
       "      <th>Longitude</th>\n",
       "      <th>senateId</th>\n",
       "      <th>incomeAmount</th>\n",
       "      <th>mnnSectorCode</th>\n",
       "      <th>assetAmount</th>\n",
       "    </tr>\n",
       "  </thead>\n",
       "  <tbody>\n",
       "    <tr>\n",
       "      <td>1777</td>\n",
       "      <td>AMHERST COLLEGE TRUSTEES</td>\n",
       "      <td>42.340368</td>\n",
       "      <td>-72.505087</td>\n",
       "      <td>6</td>\n",
       "      <td>708268667.0</td>\n",
       "      <td>1</td>\n",
       "      <td>2.748966e+09</td>\n",
       "    </tr>\n",
       "    <tr>\n",
       "      <td>30894</td>\n",
       "      <td>TRUSTEES OF THE SMITH COLLEGE</td>\n",
       "      <td>42.317898</td>\n",
       "      <td>-72.634794</td>\n",
       "      <td>6</td>\n",
       "      <td>353114072.0</td>\n",
       "      <td>1</td>\n",
       "      <td>2.030566e+09</td>\n",
       "    </tr>\n",
       "    <tr>\n",
       "      <td>30869</td>\n",
       "      <td>TRUSTEES OF MOUNT HOLYOKE COLLEGE</td>\n",
       "      <td>42.255793</td>\n",
       "      <td>-72.576648</td>\n",
       "      <td>6</td>\n",
       "      <td>304504818.0</td>\n",
       "      <td>1</td>\n",
       "      <td>8.636314e+08</td>\n",
       "    </tr>\n",
       "  </tbody>\n",
       "</table>\n",
       "</div>"
      ],
      "text/plain": [
       "                                    Name   Latitude  Longitude  senateId  \\\n",
       "1777            AMHERST COLLEGE TRUSTEES  42.340368 -72.505087         6   \n",
       "30894      TRUSTEES OF THE SMITH COLLEGE  42.317898 -72.634794         6   \n",
       "30869  TRUSTEES OF MOUNT HOLYOKE COLLEGE  42.255793 -72.576648         6   \n",
       "\n",
       "       incomeAmount  mnnSectorCode   assetAmount  \n",
       "1777    708268667.0              1  2.748966e+09  \n",
       "30894   353114072.0              1  2.030566e+09  \n",
       "30869   304504818.0              1  8.636314e+08  "
      ]
     },
     "execution_count": 38,
     "metadata": {},
     "output_type": "execute_result"
    }
   ],
   "source": [
    "print(df2.shape)\n",
    "df2.head(3)"
   ]
  },
  {
   "cell_type": "code",
   "execution_count": 40,
   "metadata": {},
   "outputs": [],
   "source": [
    "json.dump(out_rows, open(f'output/district-{senate_id}.json', 'w'))"
   ]
  },
  {
   "cell_type": "markdown",
   "metadata": {},
   "source": [
    "##### Now copy to file to `app/data/` directory"
   ]
  },
  {
   "cell_type": "markdown",
   "metadata": {},
   "source": [
    "## Do all districts"
   ]
  },
  {
   "cell_type": "code",
   "execution_count": 41,
   "metadata": {},
   "outputs": [],
   "source": [
    "N = 200\n",
    "\n",
    "for senate_id in range(1, 41):\n",
    "    \n",
    "    df2 = df[df['senateId'] == senate_id]\n",
    "    df2 = df2.sort_values(by='incomeAmount',ascending=False)\n",
    "\n",
    "    df2 = df2.iloc[:N,:]\n",
    "\n",
    "    d = {}\n",
    "    for k in df2.keys():\n",
    "        d[k] = df2[k].to_list()\n",
    "\n",
    "    d_len = len(d[list(d.keys())[0]])\n",
    "\n",
    "    rows = []\n",
    "    for i in range(d_len):\n",
    "        _row = [d[k][i] for k in list(d.keys())]\n",
    "        rows.append(_row)\n",
    "\n",
    "    out_rows = {'rows': rows}\n",
    "    \n",
    "    json.dump(out_rows, open(f'output/district-{senate_id}.json', 'w'))"
   ]
  },
  {
   "cell_type": "code",
   "execution_count": null,
   "metadata": {},
   "outputs": [],
   "source": []
  }
 ],
 "metadata": {
  "kernelspec": {
   "display_name": "Python [conda env:root] *",
   "language": "python",
   "name": "conda-root-py"
  },
  "language_info": {
   "codemirror_mode": {
    "name": "ipython",
    "version": 3
   },
   "file_extension": ".py",
   "mimetype": "text/x-python",
   "name": "python",
   "nbconvert_exporter": "python",
   "pygments_lexer": "ipython3",
   "version": "3.7.4"
  }
 },
 "nbformat": 4,
 "nbformat_minor": 2
}
